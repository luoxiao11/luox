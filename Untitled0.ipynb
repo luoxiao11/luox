{
  "nbformat": 4,
  "nbformat_minor": 0,
  "metadata": {
    "colab": {
      "name": "Untitled0.ipynb",
      "provenance": [],
      "authorship_tag": "ABX9TyM1DkLNwI5/u/0NQt9sxJ5Q",
      "include_colab_link": true
    },
    "kernelspec": {
      "name": "python3",
      "display_name": "Python 3"
    }
  },
  "cells": [
    {
      "cell_type": "markdown",
      "metadata": {
        "id": "view-in-github",
        "colab_type": "text"
      },
      "source": [
        "<a href=\"https://colab.research.google.com/github/luoxiao11/luox/blob/master/Untitled0.ipynb\" target=\"_parent\"><img src=\"https://colab.research.google.com/assets/colab-badge.svg\" alt=\"Open In Colab\"/></a>"
      ]
    },
    {
      "cell_type": "code",
      "metadata": {
        "id": "LAJW-ws8ePYq",
        "colab_type": "code",
        "colab": {}
      },
      "source": [
        "import pandas \n",
        "import urllib.request  \n",
        "import numpy   # Numerical python.\n",
        "\n",
        "# Download the data.\n",
        "url = \"https://archive.ics.uci.edu/ml/machine-learning-databases/voting-records/house-votes-84.data\"\n",
        "response = urllib.request.urlopen(url)\n",
        "\n",
        "# Interpret text data into pandas data frame. Interpret 'abstain' votes as 'no'.\n",
        "dataset  = pandas.read_csv(response, header=None, true_values=['y'], false_values=['n','?'])\n",
        "\n",
        "# Set the column names.\n",
        "names = ['label'] + [f'vote_{i}' for i in range(16)]\n",
        "dataset.columns = names\n",
        "\n",
        "# Tells pandas that this is a categorical feature.\n",
        "dataset['label'] = pandas.Categorical(dataset['label'])\n",
        "\n",
        "print(\"Dataset shape: \", dataset.shape)\n",
        "dataset.head() # Prints first 5 examples from the data set."
      ],
      "execution_count": 0,
      "outputs": []
    },
    {
      "cell_type": "code",
      "metadata": {
        "id": "Lk_ayKvMebHe",
        "colab_type": "code",
        "colab": {}
      },
      "source": [
        ""
      ],
      "execution_count": 0,
      "outputs": []
    },
    {
      "cell_type": "code",
      "metadata": {
        "id": "U2kpu258ffla",
        "colab_type": "code",
        "colab": {}
      },
      "source": [
        ""
      ],
      "execution_count": 0,
      "outputs": []
    }
  ]
}